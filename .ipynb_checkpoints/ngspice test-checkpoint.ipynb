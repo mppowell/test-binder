{
 "cells": [
  {
   "cell_type": "code",
   "execution_count": 16,
   "metadata": {},
   "outputs": [
    {
     "data": {
      "application/vnd.jupyter.widget-view+json": {
       "model_id": "b23d2782914c4a5494154125a4942547",
       "version_major": 2,
       "version_minor": 0
      },
      "text/plain": [
       "interactive(children=(FloatSlider(value=5.0, description='voltage', max=15.0, min=-5.0), Output()), _dom_class…"
      ]
     },
     "metadata": {},
     "output_type": "display_data"
    }
   ],
   "source": [
    "import subprocess\n",
    "from ipywidgets import interact\n",
    "import spr\n",
    "import matplotlib.pyplot as plt\n",
    "%matplotlib inline\n",
    "\n",
    "@interact(voltage=5.0)\n",
    "def update(voltage):\n",
    "    command = \"source nmos.cir\\nalter v_v1 dc=\" + str(voltage) + \"\\nDC v_v2 0 20 0.04\\nset filetype=ascii\\nwrite raw.txt\\n\"\n",
    "    proc = subprocess.Popen([\"ngspice\", \"-p\"], stdin=subprocess.PIPE, stdout=subprocess.PIPE, stderr=subprocess.STDOUT, encoding=\"utf-8\")\n",
    "    (stdout, stderr) = proc.communicate(command)\n",
    "    data = spr.load_raw('raw.txt')\n",
    "    x = data['values']['v-sweep']\n",
    "    y = data['values']['i(v_vcur_1)']\n",
    "    plt.ylim(0,0.003)\n",
    "    plt.plot(x, y)\n",
    "    print(stdout)\n",
    "\n"
   ]
  },
  {
   "cell_type": "code",
   "execution_count": 30,
   "metadata": {},
   "outputs": [
    {
     "name": "stdout",
     "output_type": "stream",
     "text": [
      "[{'idx': '0', 'name': 'v-sweep', 'type': 'voltage'}, {'idx': '1', 'name': 'n_1', 'type': 'voltage'}, {'idx': '2', 'name': 'n_2', 'type': 'voltage'}, {'idx': '3', 'name': 'n_3', 'type': 'voltage'}, {'idx': '4', 'name': 'i(v_v1)', 'type': 'current'}, {'idx': '5', 'name': 'i(v_v2)', 'type': 'current'}, {'idx': '6', 'name': 'i(v_vcur_1)', 'type': 'current'}]\n"
     ]
    }
   ],
   "source": [
    "import spr\n",
    "data= spr.load_raw('raw.txt')\n",
    "print(data['vars'])"
   ]
  },
  {
   "cell_type": "code",
   "execution_count": null,
   "metadata": {},
   "outputs": [],
   "source": [
    "proc = subprocess.Popen([\"ngspice_con\", \"-p\"], stdin=subprocess.PIPE, stdout=subprocess.PIPE, stderr=subprocess.STDOUT, encoding=\"utf-8\")\n",
    "(stdout, stderr) = proc.communicate(\"source nmos.cir\\nalter v_v1 dc=2\\nshow\\nrun\\nset filetype=ascii\\nwrite raw.txt\\n\")\n",
    "print(stdout)"
   ]
  }
 ],
 "metadata": {
  "kernelspec": {
   "display_name": "Python 3",
   "language": "python",
   "name": "python3"
  },
  "language_info": {
   "codemirror_mode": {
    "name": "ipython",
    "version": 3
   },
   "file_extension": ".py",
   "mimetype": "text/x-python",
   "name": "python",
   "nbconvert_exporter": "python",
   "pygments_lexer": "ipython3",
   "version": "3.7.5"
  }
 },
 "nbformat": 4,
 "nbformat_minor": 2
}
