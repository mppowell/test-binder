{
 "cells": [
  {
   "cell_type": "code",
   "execution_count": null,
   "metadata": {},
   "outputs": [],
   "source": [
    "a = 3\n",
    "print(3)"
   ]
  },
  {
   "cell_type": "code",
   "execution_count": null,
   "metadata": {},
   "outputs": [],
   "source": [
    "b = 5\n",
    "print(b)"
   ]
  },
  {
   "cell_type": "code",
   "execution_count": null,
   "metadata": {},
   "outputs": [],
   "source": [
    "!dir"
   ]
  },
  {
   "cell_type": "code",
   "execution_count": 6,
   "metadata": {},
   "outputs": [
    {
     "name": "stdout",
     "output_type": "stream",
     "text": [
      "ngspice 1 -> \n",
      "Circuit: * spicenetlist\n",
      "\n",
      "ngspice 2 -> ngspice 3 ->  Mos3: Level 3 MOSfet model with Meyer capacitance model\n",
      "     device                  m_m1\n",
      "      model                  nfet\n",
      "\n",
      " Vsource: Independent voltage source\n",
      "     device                  v_v2              v_vcur_1                  v_v1\n",
      "         dc                     0                     0                     2\n",
      "      acmag                     0                     0                     0\n",
      "      pulse         -         -         -\n",
      "        sin         -         -         -\n",
      "        exp         -         -         -\n",
      "        pwl         -         -         -\n",
      "       sffm         -         -         -\n",
      "         am         -         -         -\n",
      "    trnoise         -         -         -\n",
      "   trrandom         -         -         -\n",
      "\n",
      "ngspice 4 -> Note: can't find init file.\n",
      "Warning: no graphics interface!\n",
      " You may use command 'gnuplot'\n",
      " if GnuPlot is installed.\n",
      "Warning: v_vcur_1: has no value, DC 0 assumed\n",
      "Doing analysis at TEMP = 0.000000 and TNOM = 27.000000\n",
      "\n",
      "ngspice 5 -> ngspice 6 -> ASCII raw file \"raw.txt\"\n",
      "ngspice 7 -> quit\n",
      "ngspice-31 done\n",
      "\n"
     ]
    }
   ],
   "source": [
    "import subprocess\n",
    "proc = subprocess.Popen([\"ngspice_con\", \"-p\"], stdin=subprocess.PIPE, stdout=subprocess.PIPE, stderr=subprocess.STDOUT, encoding=\"utf-8\")\n",
    "(stdout, stderr) = proc.communicate(\"source test.cir\\nalter v_v1 dc=2\\nshow\\nrun\\nset filetype=ascii\\nwrite raw.txt\\n\")\n",
    "print(stdout)"
   ]
  },
  {
   "cell_type": "code",
   "execution_count": 2,
   "metadata": {},
   "outputs": [
    {
     "ename": "ModuleNotFoundError",
     "evalue": "No module named 'numpy'",
     "output_type": "error",
     "traceback": [
      "\u001b[1;31m---------------------------------------------------------------------------\u001b[0m",
      "\u001b[1;31mModuleNotFoundError\u001b[0m                       Traceback (most recent call last)",
      "\u001b[1;32m<ipython-input-2-b8b58afd54bb>\u001b[0m in \u001b[0;36m<module>\u001b[1;34m\u001b[0m\n\u001b[1;32m----> 1\u001b[1;33m \u001b[1;32mfrom\u001b[0m \u001b[0mspr\u001b[0m \u001b[1;32mimport\u001b[0m \u001b[0mload_raw\u001b[0m\u001b[1;33m\u001b[0m\u001b[1;33m\u001b[0m\u001b[0m\n\u001b[0m\u001b[0;32m      2\u001b[0m \u001b[0mdata\u001b[0m\u001b[1;33m=\u001b[0m \u001b[0mload_raw\u001b[0m\u001b[1;33m(\u001b[0m\u001b[1;34m'raw.txt'\u001b[0m\u001b[1;33m)\u001b[0m\u001b[1;33m\u001b[0m\u001b[1;33m\u001b[0m\u001b[0m\n\u001b[0;32m      3\u001b[0m \u001b[0mprint\u001b[0m\u001b[1;33m(\u001b[0m\u001b[0mdata\u001b[0m\u001b[1;33m)\u001b[0m\u001b[1;33m\u001b[0m\u001b[1;33m\u001b[0m\u001b[0m\n",
      "\u001b[1;32m~\\Desktop\\test_binder\\spr\\__init__.py\u001b[0m in \u001b[0;36m<module>\u001b[1;34m\u001b[0m\n\u001b[0;32m      3\u001b[0m \u001b[1;32mimport\u001b[0m \u001b[0mre\u001b[0m\u001b[1;33m\u001b[0m\u001b[1;33m\u001b[0m\u001b[0m\n\u001b[0;32m      4\u001b[0m \u001b[1;32mimport\u001b[0m \u001b[0mcopy\u001b[0m\u001b[1;33m\u001b[0m\u001b[1;33m\u001b[0m\u001b[0m\n\u001b[1;32m----> 5\u001b[1;33m \u001b[1;32mimport\u001b[0m \u001b[0mnumpy\u001b[0m \u001b[1;32mas\u001b[0m \u001b[0mnp\u001b[0m\u001b[1;33m\u001b[0m\u001b[1;33m\u001b[0m\u001b[0m\n\u001b[0m\u001b[0;32m      6\u001b[0m \u001b[1;32mimport\u001b[0m \u001b[0mfunctools\u001b[0m\u001b[1;33m\u001b[0m\u001b[1;33m\u001b[0m\u001b[0m\n\u001b[0;32m      7\u001b[0m \u001b[1;33m\u001b[0m\u001b[0m\n",
      "\u001b[1;31mModuleNotFoundError\u001b[0m: No module named 'numpy'"
     ]
    }
   ],
   "source": [
    "import spr\n",
    "data= spr.load_raw('raw.txt')\n",
    "print(data)"
   ]
  },
  {
   "cell_type": "code",
   "execution_count": null,
   "metadata": {},
   "outputs": [],
   "source": []
  }
 ],
 "metadata": {
  "kernelspec": {
   "display_name": "Python 3",
   "language": "python",
   "name": "python3"
  },
  "language_info": {
   "codemirror_mode": {
    "name": "ipython",
    "version": 3
   },
   "file_extension": ".py",
   "mimetype": "text/x-python",
   "name": "python",
   "nbconvert_exporter": "python",
   "pygments_lexer": "ipython3",
   "version": "3.7.5"
  }
 },
 "nbformat": 4,
 "nbformat_minor": 2
}
